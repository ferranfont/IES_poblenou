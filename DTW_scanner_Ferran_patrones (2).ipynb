{
 "cells": [
  {
   "cell_type": "markdown",
   "id": "c25b402e",
   "metadata": {},
   "source": [
    "\n",
    "\n",
    "\n",
    "\n",
    "\n",
    "\n",
    "\n",
    "\n",
    "\n",
    "\n",
    "\n",
    "\n",
    "\n",
    "\n",
    "\n",
    "\n",
    "\n",
    "\n",
    "\n",
    "\n",
    "\n",
    "\n",
    "\n",
    "\n",
    "\n",
    "\n",
    "\n",
    "\n",
    "\n",
    "\n",
    "\n",
    "\n",
    "\n",
    "\n",
    "\n",
    "\n",
    "\n",
    "\n",
    "\n",
    "\n",
    "\n",
    "\n",
    "\n",
    "\n",
    "\n",
    "\n",
    "\n",
    "\n",
    "\n",
    "\n",
    "\n",
    "\n",
    "\n",
    "\n",
    "\n",
    "\n",
    "\n",
    "\n",
    "\n",
    "\n",
    "\n",
    "\n",
    "\n",
    "\n",
    "\n",
    "\n",
    "\n",
    "\n",
    "\n",
    "\n",
    "\n",
    "\n",
    "\n",
    "\n",
    "\n",
    "\n",
    "\n",
    "\n",
    "\n",
    "\n",
    "\n",
    "\n",
    "\n",
    "\n",
    "\n",
    "\n",
    "\n",
    "\n",
    "\n",
    "\n",
    "\n",
    "\n",
    "\n",
    "\n",
    "\n",
    "\n",
    "\n",
    "\n",
    "\n",
    "\n",
    "\n",
    "\n",
    "\n",
    "\n",
    "\n",
    "\n",
    "\n",
    "\n",
    "\n",
    "\n",
    "\n",
    "\n",
    "\n",
    "\n",
    "\n",
    "\n",
    "\n",
    "\n",
    "\n",
    "\n",
    "\n",
    "\n",
    "\n",
    "\n",
    "\n",
    "\n",
    "\n",
    "\n",
    "\n",
    "\n",
    "\n",
    "\n",
    "\n",
    "\n",
    "\n",
    "\n",
    "\n",
    "\n",
    "\n",
    "\n",
    "\n",
    "\n",
    "\n",
    "\n",
    "\n",
    "\n",
    "\n",
    "\n",
    "\n",
    "\n",
    "\n",
    "\n",
    "\n",
    "\n",
    "\n",
    "\n",
    "\n",
    "\n",
    "\n",
    "\n",
    "\n",
    "\n",
    "\n",
    "\n",
    "\n",
    "\n",
    "\n",
    "\n",
    "\n",
    "\n",
    "\n",
    "\n",
    "\n",
    "\n",
    "\n",
    "\n",
    "\n",
    "\n",
    "\n",
    "\n",
    "\n",
    "\n",
    "\n",
    "\n",
    "\n",
    "\n",
    "\n",
    "\n",
    "\n",
    "\n",
    "\n",
    "\n",
    "\n",
    "\n",
    "\n",
    "\n",
    "\n",
    "\n",
    "\n",
    "\n",
    "\n",
    "\n",
    "\n",
    "\n",
    "\n",
    "\n",
    "## Vamos a usar la librería \"dtaidistance\"\n",
    "\n",
    "https://dtaidistance.readthedocs.io/en/latest/usage/dtw.html"
   ]
  },
  {
   "cell_type": "code",
   "execution_count": 1,
   "id": "84a5e461",
   "metadata": {},
   "outputs": [],
   "source": [
    "import pandas._libs.testing as _testing\n",
    "import numpy as np\n",
    "import pandas as pd\n",
    "from dtaidistance import dtw\n",
    "from dtaidistance import dtw_visualisation as dtwvis\n",
    "import matplotlib.pyplot as plt\n",
    "from datetime import datetime"
   ]
  },
  {
   "cell_type": "markdown",
   "id": "19bf0414",
   "metadata": {},
   "source": [
    "### VARIABLES DE ENTRADA"
   ]
  },
  {
   "cell_type": "code",
   "execution_count": 2,
   "id": "29407aa9",
   "metadata": {},
   "outputs": [],
   "source": [
    "## Ruta al archivo donde están los archivos con la data\n",
    "path_data = \"Data_Train/\"\n",
    "## Nombre del archivo donde está la data\n",
    "file_data = \"27f_3m_CL APR23.Last.txt\"\n",
    "\n",
    "## Ruta del archivo donde están los patrones\n",
    "path_patterns =\"Data_Patron/\"\n",
    "## Nombre del archivo donde está el patrón\n",
    "file_pattern = \"Momentum.csv\"\n",
    "\n",
    "# Ruta de los archivos de salida:\n",
    "path_output = \"Output_Train/\"\n",
    "## Nombre del archivo de salida (tanto el csv como el HTML)\n",
    "nombre_output = \"Momentum1\""
   ]
  },
  {
   "cell_type": "markdown",
   "id": "b55436e8",
   "metadata": {},
   "source": [
    "### Lectura y formateo de la data"
   ]
  },
  {
   "cell_type": "code",
   "execution_count": 3,
   "id": "04d49563",
   "metadata": {},
   "outputs": [],
   "source": [
    "def fecha(data, dia):\n",
    "    data[\"Date\"] = data[\"ds\"].str[0:8]\n",
    "    data[\"Date\"] = pd.to_datetime(data[\"Date\"], format=\"%Y%m%d\").dt.date\n",
    "    data[\"Time\"] = data[\"ds\"].str[9:15]\n",
    "    data[\"Time\"] = pd.to_datetime(data[\"Time\"], format=\"%H%M%S\").dt.time\n",
    "    data[\"ds\"] = pd.to_datetime(data['Date'].astype(str) + ' ' + data['Time'].astype(str))\n",
    "    if dia != None:\n",
    "        data = data[data[\"ds\"].dt.day == dia]\n",
    "    return data\n",
    "\n",
    "    \n",
    "df = pd.read_csv(path_data + file_data, sep=\";\", names=[\"ds\", \"Open\", \"High\", \"Low\", \"Close\", \"Volume\"])\n",
    "df = fecha(df, None)\n",
    "df[\"signo_vela\"] = df[\"Close\"] - df[\"Open\"] #si es positivo --> alcista; si negativo --> bajista\n",
    "df[\"signo_vela_anterior\"] = df[\"signo_vela\"].shift(1).fillna(0)\n",
    "df.loc[(df[\"signo_vela_anterior\"]<=0) & (df[\"signo_vela\"]>=0), \"Price\"] = df[\"High\"]\n",
    "df.loc[(df[\"signo_vela_anterior\"]>=0) & (df[\"signo_vela\"]>=0), \"Price\"] = df[\"High\"]\n",
    "df.loc[(df[\"signo_vela_anterior\"]>=0) & (df[\"signo_vela\"]<=0), \"Price\"] = df[\"Low\"]\n",
    "df.loc[(df[\"signo_vela_anterior\"]<=0) & (df[\"signo_vela\"]<=0), \"Price\"] = df[\"Low\"]"
   ]
  },
  {
   "cell_type": "code",
   "execution_count": 4,
   "id": "b92d136a",
   "metadata": {},
   "outputs": [
    {
     "data": {
      "text/plain": [
       "<Axes: xlabel='ds'>"
      ]
     },
     "execution_count": 4,
     "metadata": {},
     "output_type": "execute_result"
    },
    {
     "data": {
      "image/png": "[encoded data removed]",
      "text/plain": [
       "<Figure size 1500x500 with 1 Axes>"
      ]
     },
     "metadata": {},
     "output_type": "display_data"
    }
   ],
   "source": [
    "df.set_index(\"ds\")[\"Close\"].plot(figsize=(15,5))"
   ]
  },
  {
   "cell_type": "markdown",
   "id": "bbcb936b",
   "metadata": {},
   "source": [
    "## SCANNER"
   ]
  },
  {
   "cell_type": "code",
   "execution_count": 5,
   "id": "7671577e",
   "metadata": {},
   "outputs": [
    {
     "name": "stdout",
     "output_type": "stream",
     "text": [
      "CPU times: total: 0 ns\n",
      "Wall time: 8.34 ms\n"
     ]
    },
    {
     "data": {
      "text/html": [
       "<div>\n",
       "<style scoped>\n",
       "    .dataframe tbody tr th:only-of-type {\n",
       "        vertical-align: middle;\n",
       "    }\n",
       "\n",
       "    .dataframe tbody tr th {\n",
       "        vertical-align: top;\n",
       "    }\n",
       "\n",
       "    .dataframe thead th {\n",
       "        text-align: right;\n",
       "    }\n",
       "</style>\n",
       "<table border=\"1\" class=\"dataframe\">\n",
       "  <thead>\n",
       "    <tr style=\"text-align: right;\">\n",
       "      <th></th>\n",
       "      <th>ds</th>\n",
       "      <th>Open</th>\n",
       "      <th>High</th>\n",
       "      <th>Low</th>\n",
       "      <th>Close</th>\n",
       "      <th>Volume</th>\n",
       "      <th>Date</th>\n",
       "      <th>Time</th>\n",
       "      <th>idx</th>\n",
       "      <th>signo_vela</th>\n",
       "      <th>signo_vela_anterior</th>\n",
       "      <th>Price</th>\n",
       "      <th>diferencia_abs</th>\n",
       "    </tr>\n",
       "  </thead>\n",
       "  <tbody>\n",
       "    <tr>\n",
       "      <th>0</th>\n",
       "      <td>2023-03-06T19:18:00</td>\n",
       "      <td>80.19</td>\n",
       "      <td>80.19</td>\n",
       "      <td>80.14</td>\n",
       "      <td>80.18</td>\n",
       "      <td>326</td>\n",
       "      <td>06/03/2023</td>\n",
       "      <td>19:18:00</td>\n",
       "      <td>1215</td>\n",
       "      <td>-0.01</td>\n",
       "      <td>0.00</td>\n",
       "      <td>76.14</td>\n",
       "      <td>0.003280</td>\n",
       "    </tr>\n",
       "    <tr>\n",
       "      <th>1</th>\n",
       "      <td>2023-03-06T19:19:00</td>\n",
       "      <td>80.18</td>\n",
       "      <td>80.20</td>\n",
       "      <td>80.15</td>\n",
       "      <td>80.16</td>\n",
       "      <td>305</td>\n",
       "      <td>06/03/2023</td>\n",
       "      <td>19:19:00</td>\n",
       "      <td>1216</td>\n",
       "      <td>-0.02</td>\n",
       "      <td>-0.01</td>\n",
       "      <td>76.17</td>\n",
       "      <td>0.436493</td>\n",
       "    </tr>\n",
       "    <tr>\n",
       "      <th>2</th>\n",
       "      <td>2023-03-06T19:20:00</td>\n",
       "      <td>80.16</td>\n",
       "      <td>80.17</td>\n",
       "      <td>80.11</td>\n",
       "      <td>80.17</td>\n",
       "      <td>290</td>\n",
       "      <td>06/03/2023</td>\n",
       "      <td>19:20:00</td>\n",
       "      <td>1217</td>\n",
       "      <td>0.01</td>\n",
       "      <td>-0.02</td>\n",
       "      <td>76.20</td>\n",
       "      <td>-0.091192</td>\n",
       "    </tr>\n",
       "    <tr>\n",
       "      <th>3</th>\n",
       "      <td>2023-03-06T19:21:00</td>\n",
       "      <td>80.17</td>\n",
       "      <td>80.25</td>\n",
       "      <td>80.16</td>\n",
       "      <td>80.23</td>\n",
       "      <td>380</td>\n",
       "      <td>06/03/2023</td>\n",
       "      <td>19:21:00</td>\n",
       "      <td>1218</td>\n",
       "      <td>0.06</td>\n",
       "      <td>0.01</td>\n",
       "      <td>76.25</td>\n",
       "      <td>0.148052</td>\n",
       "    </tr>\n",
       "    <tr>\n",
       "      <th>4</th>\n",
       "      <td>2023-03-06T19:22:00</td>\n",
       "      <td>80.23</td>\n",
       "      <td>80.25</td>\n",
       "      <td>80.20</td>\n",
       "      <td>80.24</td>\n",
       "      <td>455</td>\n",
       "      <td>06/03/2023</td>\n",
       "      <td>19:22:00</td>\n",
       "      <td>1219</td>\n",
       "      <td>0.01</td>\n",
       "      <td>0.06</td>\n",
       "      <td>76.29</td>\n",
       "      <td>-0.369249</td>\n",
       "    </tr>\n",
       "  </tbody>\n",
       "</table>\n",
       "</div>"
      ],
      "text/plain": [
       "                    ds   Open   High    Low  Close  Volume        Date  \\\n",
       "0  2023-03-06T19:18:00  80.19  80.19  80.14  80.18     326  06/03/2023   \n",
       "1  2023-03-06T19:19:00  80.18  80.20  80.15  80.16     305  06/03/2023   \n",
       "2  2023-03-06T19:20:00  80.16  80.17  80.11  80.17     290  06/03/2023   \n",
       "3  2023-03-06T19:21:00  80.17  80.25  80.16  80.23     380  06/03/2023   \n",
       "4  2023-03-06T19:22:00  80.23  80.25  80.20  80.24     455  06/03/2023   \n",
       "\n",
       "       Time   idx  signo_vela  signo_vela_anterior  Price  diferencia_abs  \n",
       "0  19:18:00  1215       -0.01                 0.00  76.14        0.003280  \n",
       "1  19:19:00  1216       -0.02                -0.01  76.17        0.436493  \n",
       "2  19:20:00  1217        0.01                -0.02  76.20       -0.091192  \n",
       "3  19:21:00  1218        0.06                 0.01  76.25        0.148052  \n",
       "4  19:22:00  1219        0.01                 0.06  76.29       -0.369249  "
      ]
     },
     "execution_count": 5,
     "metadata": {},
     "output_type": "execute_result"
    }
   ],
   "source": [
    "%%time\n",
    "def standard_scale(ts):\n",
    "    return (ts - np.mean(ts))/np.std(ts)\n",
    "\n",
    "def dtw_distance(x):\n",
    "    global s1\n",
    "    x = standard_scale(x)\n",
    "    distance = dtw.distance_fast(x.values, s1, use_pruning=True)\n",
    "    return distance\n",
    "\n",
    "df1 = pd.read_csv(path_patterns + file_pattern, sep=\";\")\n",
    "df1.head()"
   ]
  },
  {
   "cell_type": "code",
   "execution_count": 6,
   "id": "9c590920",
   "metadata": {},
   "outputs": [
    {
     "name": "stdout",
     "output_type": "stream",
     "text": [
      "CPU times: total: 1.34 s\n",
      "Wall time: 1.87 s\n"
     ]
    }
   ],
   "source": [
    "%%time\n",
    "def standard_scale(ts):\n",
    "    return (ts - np.mean(ts))/np.std(ts)\n",
    "\n",
    "def dtw_distance(x):\n",
    "    global s1\n",
    "    x = standard_scale(x)\n",
    "    distance = dtw.distance_fast(x.values, s1, use_pruning=True)\n",
    "    return distance\n",
    "\n",
    "df1 = pd.read_csv(path_patterns + file_pattern, sep=\";\")\n",
    "s1 = df1[\"Price\"].values\n",
    "s1 = standard_scale(s1)\n",
    "\n",
    "df[\"distance\"] = df[\"Price\"].rolling(window=len(s1)+10, center=False).apply(lambda x: dtw_distance(x))  "
   ]
  },
  {
   "cell_type": "code",
   "execution_count": 7,
   "id": "03f7a3ba",
   "metadata": {},
   "outputs": [
    {
     "data": {
      "text/plain": [
       "<Axes: >"
      ]
     },
     "execution_count": 7,
     "metadata": {},
     "output_type": "execute_result"
    },
    {
     "data": {
      "image/png": "[encoded data removed]",
      "text/plain": [
       "<Figure size 1000x400 with 1 Axes>"
      ]
     },
     "metadata": {},
     "output_type": "display_data"
    }
   ],
   "source": [
    "df1[\"Price\"].plot(c=\"green\", figsize=(10,4))"
   ]
  },
  {
   "cell_type": "markdown",
   "id": "dc6f60a1",
   "metadata": {},
   "source": [
    "### Establecer el valor máximo de distancia"
   ]
  },
  {
   "cell_type": "code",
   "execution_count": 8,
   "id": "212dd26b",
   "metadata": {},
   "outputs": [],
   "source": [
    "## Valor límite de distancia por debajo del cual vamos a seleccionar los patrones\n",
    "maximo = 3.7"
   ]
  },
  {
   "cell_type": "code",
   "execution_count": 9,
   "id": "873c8c60",
   "metadata": {},
   "outputs": [
    {
     "data": {
      "text/plain": [
       "<matplotlib.lines.Line2D at 0x27f58fbe950>"
      ]
     },
     "execution_count": 9,
     "metadata": {},
     "output_type": "execute_result"
    },
    {
     "data": {
      "image/png": "[encoded data removed]",
      "text/plain": [
       "<Figure size 800x300 with 1 Axes>"
      ]
     },
     "metadata": {},
     "output_type": "display_data"
    }
   ],
   "source": [
    "df[\"distance\"].hist(figsize=(8,3), bins=50, alpha=0.5)\n",
    "plt.axvline(x=maximo, c=\"orange\")"
   ]
  },
  {
   "cell_type": "code",
   "execution_count": 10,
   "id": "c2388ab7",
   "metadata": {},
   "outputs": [
    {
     "data": {
      "text/plain": [
       "<matplotlib.lines.Line2D at 0x27f58f72530>"
      ]
     },
     "execution_count": 10,
     "metadata": {},
     "output_type": "execute_result"
    },
    {
     "data": {
      "image/png": "[encoded data removed]",
      "text/plain": [
       "<Figure size 800x300 with 1 Axes>"
      ]
     },
     "metadata": {},
     "output_type": "display_data"
    }
   ],
   "source": [
    "df[\"distance\"].plot(figsize=(8,3), c=\"orange\")\n",
    "plt.axhline(y=maximo, c=\"red\")"
   ]
  },
  {
   "cell_type": "code",
   "execution_count": 11,
   "id": "a23bc9da",
   "metadata": {},
   "outputs": [
    {
     "data": {
      "text/plain": [
       "count    6868.000000\n",
       "mean        0.025981\n",
       "std         0.019322\n",
       "min         0.002143\n",
       "25%         0.012143\n",
       "50%         0.021429\n",
       "75%         0.035000\n",
       "max         0.221429\n",
       "Name: atr, dtype: float64"
      ]
     },
     "execution_count": 11,
     "metadata": {},
     "output_type": "execute_result"
    }
   ],
   "source": [
    "## ATR para asegurarnos zonas con velas suficientemente grandes\n",
    "df[\"close_open\"] = np.abs(df[\"Close\"] - df[\"Open\"])\n",
    "df[\"atr\"] = df[\"close_open\"].rolling(window=14).mean()\n",
    "df[\"atr\"].describe()"
   ]
  },
  {
   "cell_type": "markdown",
   "id": "d883f582",
   "metadata": {},
   "source": [
    "### Determinamos las entradas"
   ]
  },
  {
   "cell_type": "code",
   "execution_count": 12,
   "id": "94fb4dd1",
   "metadata": {},
   "outputs": [
    {
     "data": {
      "text/plain": [
       "74.99    6772\n",
       "79.90     109\n",
       "Name: breakout_region, dtype: int64"
      ]
     },
     "execution_count": 12,
     "metadata": {},
     "output_type": "execute_result"
    }
   ],
   "source": [
    "df = df.reset_index(drop = True)\n",
    "df[\"filtered\"] = False\n",
    "atr_th = df[\"atr\"].quantile(0.5)\n",
    "\n",
    "\n",
    "df.loc[(df[\"atr\"]>df[\"atr\"].median()) &\\\n",
    "       (df[\"distance\"]<maximo),\n",
    "       \"filtered\"] = True\n",
    "\n",
    "\n",
    "df[\"filtered_sum\"] = df[\"filtered\"].rolling(window=len(s1), center=False).sum()\n",
    "df[\"entrada\"] = False\n",
    "df.loc[(df[\"filtered_sum\"]==1) & (df[\"filtered\"]==True), \"entrada\"] = True\n",
    "\n",
    "df.loc[:, 'breakout_region'] = np.where(\n",
    "        df['entrada'],\n",
    "        df['High'].max(),\n",
    "        df['Low'].min()\n",
    "    )\n",
    "\n",
    "df[\"breakout_region\"].value_counts()"
   ]
  },
  {
   "cell_type": "code",
   "execution_count": 13,
   "id": "92c31127",
   "metadata": {},
   "outputs": [],
   "source": [
    "volume_threshold = 250\n",
    "df.loc[(df[\"breakout_region\"]==df[\"High\"].max()) &\\\n",
    "       (df[\"Volume\"]>=volume_threshold) &\\\n",
    "       ((df[\"Close\"] - df[\"Open\"])>0), \"volume_marker\"] = df[\"Close\"]"
   ]
  },
  {
   "cell_type": "code",
   "execution_count": 14,
   "id": "5e92e6cb",
   "metadata": {},
   "outputs": [],
   "source": [
    "## Genera un archivo csv con todas las columnas calculadas hasta el mommento\n",
    "## Se le puede poner el nombre que se quiera\n",
    "now = datetime.now().strftime(\"%Y%m%d_%H%M%S\")\n",
    "df.to_csv(f\"{path_output}{nombre_output}_{now}.csv\", sep=\";\", index=False)"
   ]
  },
  {
   "cell_type": "markdown",
   "id": "06f916bc",
   "metadata": {},
   "source": [
    "### Creamos el HTML con el gráfico de salida"
   ]
  },
  {
   "cell_type": "code",
   "execution_count": 15,
   "id": "dceef743",
   "metadata": {},
   "outputs": [],
   "source": [
    "import plotly.graph_objects as go\n",
    "from plotly.subplots import make_subplots"
   ]
  },
  {
   "cell_type": "code",
   "execution_count": 16,
   "id": "f343c4a0",
   "metadata": {
    "scrolled": false
   },
   "outputs": [],
   "source": [
    "def plot_result(df: pd.DataFrame):\n",
    "\n",
    "    df[\"color\"] = \"blue\"\n",
    "    df[\"color2\"] = \"brown\"\n",
    "    df.loc[df[\"entrada\"]==True,\"color\"] = \"black\"\n",
    "    df.loc[df[\"volume_marker\"]==df[\"Close\"],\"color\"] = \"red\"\n",
    "\n",
    "    # Create subplots and mention plot grid size\n",
    "    fig = make_subplots(rows=3, cols=1, shared_xaxes=True, \n",
    "                   vertical_spacing=0.05,\n",
    "                   row_width=[0.2, 0.2, 0.6])\n",
    "\n",
    "    ## Gráfico con las velas\n",
    "    fig.add_trace(\n",
    "        go.Candlestick(\n",
    "            x = df['ds'],\n",
    "            open = df['Open'],\n",
    "            high = df['High'],\n",
    "            low = df['Low'],\n",
    "            close = df['Close'],\n",
    "            showlegend = False,        \n",
    "        ), row=1, col=1\n",
    "    )\n",
    "\n",
    "    # Gráfico con las zonas en verde donde encuentra los patrones\n",
    "    fig.add_trace(\n",
    "        go.Scatter(\n",
    "            x = df['ds'], \n",
    "            y = df['breakout_region'],\n",
    "            fill = 'tonexty',\n",
    "            fillcolor = 'rgba(0, 236, 109, 0.5)',\n",
    "            mode = 'lines',\n",
    "            line = {'width': 2, 'shape': 'hvh','color':'rgba(0, 236, 109, 0.5)'},\n",
    "            showlegend = False,\n",
    "        ), row=1, col=1\n",
    "    )\n",
    "\n",
    "\n",
    "    # Gráfico de barras con la distancia\n",
    "    fig.add_trace(go.Bar(x=df['ds'], y=df['distance'], showlegend=False,\n",
    "                        marker_color=df[\"color\"]), row=2, col=1)\n",
    "    \n",
    "    # Marca la flecha en Volumen extremo\n",
    "    fig.add_trace(\n",
    "        go.Scatter(\n",
    "            mode=\"markers\",\n",
    "            x = df['ds'], \n",
    "            y = df['volume_marker']+0.05,\n",
    "            marker=dict(\n",
    "                color='rgba(0, 206, 250, 0.5)',\n",
    "                size=7,\n",
    "                symbol = \"diamond\",\n",
    "                line=dict(\n",
    "                    color='MediumPurple',\n",
    "                    width=2\n",
    "                    )\n",
    "            ),\n",
    "            showlegend = False,\n",
    "        ), row=1, col=1\n",
    "    )\n",
    "\n",
    "\n",
    "    # Gráfico de barras con el Volumen\n",
    "    fig.add_trace(go.Bar(x=df['ds'], y=df['Volume'], showlegend=False,\n",
    "                        marker_color=df[\"color2\"]), row=3, col=1)\n",
    "\n",
    "    fig.update_layout(\n",
    "        yaxis = {'range': [df['Low'].min(), df['High'].max()], 'title': 'Price ($)'},\n",
    "        yaxis2 = {'range': [0, df['distance'].max()], 'title': 'distance'},\n",
    "        yaxis3 = {'range': [0, df[\"Volume\"].quantile(0.97)], 'title': 'Volume'})\n",
    "\n",
    "\n",
    "    fig.update(layout_xaxis_rangeslider_visible=False)\n",
    "\n",
    "\n",
    "\n",
    "    ## Se crea el HTML con el que \"jugar\"\n",
    "    now = datetime.now().strftime(\"%Y%m%d_%H%M%S\")\n",
    "    fig.write_html(f\"{path_output}{nombre_output}_{now}.html\")\n",
    "\n",
    "\n",
    "plot_result(df)"
   ]
  },
  {
   "cell_type": "code",
   "execution_count": null,
   "id": "f161b84b",
   "metadata": {},
   "outputs": [],
   "source": []
  },
  {
   "cell_type": "code",
   "execution_count": null,
   "id": "5fb81e36",
   "metadata": {},
   "outputs": [],
   "source": []
  },
  {
   "cell_type": "code",
   "execution_count": null,
   "id": "68bbc582",
   "metadata": {},
   "outputs": [],
   "source": []
  },
  {
   "cell_type": "code",
   "execution_count": null,
   "id": "ed174b34",
   "metadata": {},
   "outputs": [],
   "source": []
  }
 ],
 "metadata": {
  "kernelspec": {
   "display_name": "Python 3 (ipykernel)",
   "language": "python",
   "name": "python3"
  },
  "language_info": {
   "codemirror_mode": {
    "name": "ipython",
    "version": 3
   },
   "file_extension": ".py",
   "mimetype": "text/x-python",
   "name": "python",
   "nbconvert_exporter": "python",
   "pygments_lexer": "ipython3",
   "version": "3.10.9"
  }
 },
 "nbformat": 4,
 "nbformat_minor": 5
}
